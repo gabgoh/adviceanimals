{
 "cells": [
  {
   "cell_type": "code",
   "execution_count": 66,
   "metadata": {
    "collapsed": true
   },
   "outputs": [],
   "source": [
    "from thumbSortToJSON import *\n",
    "from sortThumbs import *\n",
    "import json\n",
    "from math import *\n",
    "from numpy import *\n",
    "from operator import itemgetter\n",
    "import json\n",
    "import os\n",
    "import collections\n",
    "\n",
    "class OrderedSet(collections.MutableSet):\n",
    "\n",
    "    def __init__(self, iterable=None):\n",
    "        self.end = end = [] \n",
    "        end += [None, end, end]         # sentinel node for doubly linked list\n",
    "        self.map = {}                   # key --> [key, prev, next]\n",
    "        if iterable is not None:\n",
    "            self |= iterable\n",
    "\n",
    "    def __len__(self):\n",
    "        return len(self.map)\n",
    "\n",
    "    def __contains__(self, key):\n",
    "        return key in self.map\n",
    "\n",
    "    def add(self, key):\n",
    "        if key not in self.map:\n",
    "            end = self.end\n",
    "            curr = end[1]\n",
    "            curr[2] = end[1] = self.map[key] = [key, curr, end]\n",
    "\n",
    "    def discard(self, key):\n",
    "        if key in self.map:        \n",
    "            key, prev, next = self.map.pop(key)\n",
    "            prev[2] = next\n",
    "            next[1] = prev\n",
    "\n",
    "    def __iter__(self):\n",
    "        end = self.end\n",
    "        curr = end[2]\n",
    "        while curr is not end:\n",
    "            yield curr[0]\n",
    "            curr = curr[2]\n",
    "\n",
    "    def __reversed__(self):\n",
    "        end = self.end\n",
    "        curr = end[1]\n",
    "        while curr is not end:\n",
    "            yield curr[0]\n",
    "            curr = curr[1]\n",
    "\n",
    "    def pop(self, last=True):\n",
    "        if not self:\n",
    "            raise KeyError('set is empty')\n",
    "        key = self.end[1][0] if last else self.end[2][0]\n",
    "        self.discard(key)\n",
    "        return key\n",
    "\n",
    "    def __repr__(self):\n",
    "        if not self:\n",
    "            return '%s()' % (self.__class__.__name__,)\n",
    "        return '%s(%r)' % (self.__class__.__name__, list(self))\n",
    "\n",
    "    def __eq__(self, other):\n",
    "        if isinstance(other, OrderedSet):\n",
    "            return len(self) == len(other) and list(self) == list(other)\n",
    "        return set(self) == set(other)"
   ]
  },
  {
   "cell_type": "code",
   "execution_count": 49,
   "metadata": {
    "collapsed": true
   },
   "outputs": [],
   "source": [
    "fp = open(r'D:\\memeproject\\thumbsnailSummaryTitlesAll','r')\n",
    "allThumbs = pickle.load(fp)\n",
    "fp.close()"
   ]
  },
  {
   "cell_type": "markdown",
   "metadata": {},
   "source": [
    "Verify that a js file is correct\n",
    "=="
   ]
  },
  {
   "cell_type": "code",
   "execution_count": 218,
   "metadata": {
    "collapsed": true
   },
   "outputs": [],
   "source": [
    "def verifyMemes(name):\n",
    "    memes = json.load(open(\"D:\\\\memeproject\\\\code\\\\html\\\\memes\\\\\" + name,'r'))\n",
    "    n = int(ceil(sqrt(len(memes))))\n",
    "    print \"Meme size is \" + str(len(memes))\n",
    "    clickedList = previewThumbs([meme['id'] + '.jpg' for meme in memes], (n,n))\n",
    "    show()\n",
    "    return clickedList, memes"
   ]
  },
  {
   "cell_type": "code",
   "execution_count": 219,
   "metadata": {
    "collapsed": false
   },
   "outputs": [
    {
     "name": "stdout",
     "output_type": "stream",
     "text": [
      "Meme size is 2434\n"
     ]
    }
   ],
   "source": [
    "name = \"Insanity_Wolf.js\"\n",
    "clickedList, memes = verifyMemes(name) # memes[clickedList[0]] returns the first clicked item"
   ]
  },
  {
   "cell_type": "code",
   "execution_count": 220,
   "metadata": {
    "collapsed": false
   },
   "outputs": [],
   "source": [
    "selectedMemes = itemgetter(*clickedList)([meme[\"id\"] + \".jpg\" for meme in memes])\n",
    "js = toJSON(allThumbs, selectedMemes)\n",
    "fp = open('D:\\\\memeproject\\\\code\\html\\\\memes\\\\' + name, 'w')\n",
    "json.dump(js, fp)\n",
    "fp.close()"
   ]
  },
  {
   "cell_type": "markdown",
   "metadata": {},
   "source": [
    "Verify Entire Directory is ok\n",
    "--\n",
    "\n",
    "If no thumbnail is selected, nothing happens"
   ]
  },
  {
   "cell_type": "code",
   "execution_count": 40,
   "metadata": {
    "collapsed": false
   },
   "outputs": [
    {
     "name": "stdout",
     "output_type": "stream",
     "text": [
      "Passed3rd_World_Success_Kid.js\n"
     ]
    }
   ],
   "source": [
    "allMemes = os.listdir(\"D:\\\\memeproject\\\\code\\html\\\\memes\\\\\")\n",
    "for name in allMemes[0:1]:\n",
    "    clickedList,memes = verifyMemes(name)\n",
    "    # If nothing is selected, assume that there are no errors\n",
    "    if len(clickedList) != 0:\n",
    "        thumbList = [meme[\"id\"] + \".jpg\" for meme in memes]\n",
    "        selectedMemes = itemgetter(*clickedList)(thumbList)\n",
    "        fp = open('D:\\\\memeproject\\\\code\\html\\\\memes\\\\' + name, 'w')\n",
    "        json.dump(toJSON(allThumbs, selectedMemes), fp)\n",
    "        fp.close()\n",
    "        print \"Saved\" + name\n",
    "    else:\n",
    "        print \"Passed\" + name"
   ]
  },
  {
   "cell_type": "markdown",
   "metadata": {},
   "source": [
    "Compare Thumbnails with a picture\n",
    "==\n",
    "\n",
    "1) Load Thumbnail and generate thumbList, a sorted list of differences\n",
    "\n",
    "2) Use GUI to determine \"Clicked List\"\n",
    "\n",
    "3) Finally save the json file. If a new template is generated, templatesToJSON.py might have to be invoked"
   ]
  },
  {
   "cell_type": "code",
   "execution_count": 225,
   "metadata": {
    "collapsed": false
   },
   "outputs": [],
   "source": [
    "%%capture\n",
    "loc = r\"D:\\memeproject\\templates\\Awkward_Penguin.jpg\"\n",
    "#loc = r\"D:\\memeproject\\thumbnails\\11hb7w.jpg\"\n",
    "(thumbList, a) = compareAll(loc, allThumbs)"
   ]
  },
  {
   "cell_type": "code",
   "execution_count": 223,
   "metadata": {
    "collapsed": true
   },
   "outputs": [],
   "source": [
    "offset = 3000\n",
    "clickedList = previewThumbs([thumb[1] for thumb in thumbList][offset:], (50,100))\n",
    "show()\n",
    "clickedList = range(0,offset) + [i + offset for i in clickedList]"
   ]
  },
  {
   "cell_type": "code",
   "execution_count": 224,
   "metadata": {
    "collapsed": true
   },
   "outputs": [],
   "source": [
    "name = \"Awkward_Penguin\"\n",
    "selectedMemes = itemgetter(*clickedList)(thumbList)\n",
    "fp = open('D:\\\\memeproject\\\\code\\html\\\\memes\\\\' + name + \".js\", 'w')\n",
    "json.dump(toJSON(allThumbs, [meme[1] for meme in selectedMemes]), fp)\n",
    "fp.close()"
   ]
  },
  {
   "cell_type": "markdown",
   "metadata": {},
   "source": [
    "Refinement\n",
    "==\n",
    "\n",
    "1) Pick represenative thumbnaul\n",
    "\n",
    "2) Compare all thumbnails with representative. \n",
    "\n",
    "3) Add new thumbnails to original list"
   ]
  },
  {
   "cell_type": "code",
   "execution_count": 226,
   "metadata": {
    "collapsed": false
   },
   "outputs": [
    {
     "name": "stdout",
     "output_type": "stream",
     "text": [
      "Meme size is 5877\n"
     ]
    }
   ],
   "source": [
    "# Pick thumbnail from existing json file\n",
    "name = \"Awkward_Penguin\"\n",
    "clickedList, memes = verifyMemes(name + \".js\") # memes[clickedList[0]] returns the first clicked item\n",
    "jsonmemes = json.load(open(\"D:\\\\memeproject\\\\code\\\\html\\\\memes\\\\\" + name +\".js\",'r'))"
   ]
  },
  {
   "cell_type": "code",
   "execution_count": 227,
   "metadata": {
    "collapsed": false
   },
   "outputs": [],
   "source": [
    "%%capture\n",
    "# Compare thumbnail\n",
    "loc = r\"D:\\\\memeproject\\\\thumbnails\\\\\" +  memes[clickedList[0]][\"id\"] + \".jpg\"\n",
    "(thumbList, a) = compareAll(loc, allThumbs)"
   ]
  },
  {
   "cell_type": "code",
   "execution_count": 228,
   "metadata": {
    "collapsed": false
   },
   "outputs": [],
   "source": [
    "# Look at all thumbs\n",
    "jsonmemelist = [meme[\"id\"] for meme in memes]\n",
    "jsonmemeset  = OrderedSet(jsonmemelist)\n",
    "alltset      = OrderedSet([thumb[1][0:-4] for thumb in thumbList])\n",
    "diffset      = alltset - jsonmemeset\n",
    "diffList     = [d + \".jpg\" for d in diffset]\n",
    "clickedList  = previewThumbs(diffList, (30,30))\n",
    "show()"
   ]
  },
  {
   "cell_type": "code",
   "execution_count": 229,
   "metadata": {
    "collapsed": false
   },
   "outputs": [
    {
     "name": "stdout",
     "output_type": "stream",
     "text": [
      "Previous length  5877  Current length  5882\n"
     ]
    }
   ],
   "source": [
    "selectedMemes = itemgetter(*clickedList)(diffList)\n",
    "concatMemes   = [meme + \".jpg\" for meme in jsonmemelist] + list(selectedMemes)\n",
    "assert(len(concatMemes) == len(list(selectedMemes)) + len(jsonmemelist))\n",
    "assert(len(set(concatMemes)) == len(concatMemes))\n",
    "print \"Previous length \", len(jsonmemeset), \" Current length \", len(concatMemes)\n",
    "js = toJSON(allThumbs, concatMemes)"
   ]
  },
  {
   "cell_type": "code",
   "execution_count": 230,
   "metadata": {
    "collapsed": true
   },
   "outputs": [],
   "source": [
    "fp = open('D:\\\\memeproject\\\\code\\html\\\\memes\\\\' + name + '.js', 'w')\n",
    "json.dump(js, fp)\n",
    "fp.close()"
   ]
  },
  {
   "cell_type": "code",
   "execution_count": null,
   "metadata": {
    "collapsed": true
   },
   "outputs": [],
   "source": []
  }
 ],
 "metadata": {
  "kernelspec": {
   "display_name": "Python 2",
   "language": "python",
   "name": "python2"
  },
  "language_info": {
   "codemirror_mode": {
    "name": "ipython",
    "version": 2
   },
   "file_extension": ".py",
   "mimetype": "text/x-python",
   "name": "python",
   "nbconvert_exporter": "python",
   "pygments_lexer": "ipython2",
   "version": "2.7.9"
  }
 },
 "nbformat": 4,
 "nbformat_minor": 0
}
