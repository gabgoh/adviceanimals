{
 "cells": [
  {
   "cell_type": "code",
   "execution_count": 2,
   "metadata": {
    "collapsed": true
   },
   "outputs": [],
   "source": [
    "from thumbSortToJSON import *\n",
    "from sortThumbs import *\n",
    "import json\n",
    "from math import *\n",
    "from numpy import *\n",
    "from operator import itemgetter\n",
    "import json\n",
    "import os\n",
    "import collections\n",
    "\n",
    "class OrderedSet(collections.MutableSet):\n",
    "\n",
    "    def __init__(self, iterable=None):\n",
    "        self.end = end = [] \n",
    "        end += [None, end, end]         # sentinel node for doubly linked list\n",
    "        self.map = {}                   # key --> [key, prev, next]\n",
    "        if iterable is not None:\n",
    "            self |= iterable\n",
    "\n",
    "    def __len__(self):\n",
    "        return len(self.map)\n",
    "\n",
    "    def __contains__(self, key):\n",
    "        return key in self.map\n",
    "\n",
    "    def add(self, key):\n",
    "        if key not in self.map:\n",
    "            end = self.end\n",
    "            curr = end[1]\n",
    "            curr[2] = end[1] = self.map[key] = [key, curr, end]\n",
    "\n",
    "    def discard(self, key):\n",
    "        if key in self.map:        \n",
    "            key, prev, next = self.map.pop(key)\n",
    "            prev[2] = next\n",
    "            next[1] = prev\n",
    "\n",
    "    def __iter__(self):\n",
    "        end = self.end\n",
    "        curr = end[2]\n",
    "        while curr is not end:\n",
    "            yield curr[0]\n",
    "            curr = curr[2]\n",
    "\n",
    "    def __reversed__(self):\n",
    "        end = self.end\n",
    "        curr = end[1]\n",
    "        while curr is not end:\n",
    "            yield curr[0]\n",
    "            curr = curr[1]\n",
    "\n",
    "    def pop(self, last=True):\n",
    "        if not self:\n",
    "            raise KeyError('set is empty')\n",
    "        key = self.end[1][0] if last else self.end[2][0]\n",
    "        self.discard(key)\n",
    "        return key\n",
    "\n",
    "    def __repr__(self):\n",
    "        if not self:\n",
    "            return '%s()' % (self.__class__.__name__,)\n",
    "        return '%s(%r)' % (self.__class__.__name__, list(self))\n",
    "\n",
    "    def __eq__(self, other):\n",
    "        if isinstance(other, OrderedSet):\n",
    "            return len(self) == len(other) and list(self) == list(other)\n",
    "        return set(self) == set(other)"
   ]
  },
  {
   "cell_type": "code",
   "execution_count": 3,
   "metadata": {
    "collapsed": true
   },
   "outputs": [],
   "source": [
    "fp = open(r'D:\\memeproject\\thumbsnailSummaryTitlesAll','r')\n",
    "allThumbs = pickle.load(fp)\n",
    "fp.close()"
   ]
  },
  {
   "cell_type": "markdown",
   "metadata": {},
   "source": [
    "Verify that a js file is correct\n",
    "=="
   ]
  },
  {
   "cell_type": "code",
   "execution_count": 9,
   "metadata": {
    "collapsed": true
   },
   "outputs": [],
   "source": [
    "def verifyMemes(name):\n",
    "    memes = json.load(open(\"D:\\\\memeproject\\\\code\\\\html\\\\memes\\\\\" + name,'r'))\n",
    "    n = int(ceil(sqrt(len(memes))))\n",
    "    print \"Meme size is \" + str(len(memes))\n",
    "    clickedList = previewThumbs([meme['id'] + '.jpg' for meme in memes], (n,n))\n",
    "    show()\n",
    "    return clickedList, memes"
   ]
  },
  {
   "cell_type": "code",
   "execution_count": 219,
   "metadata": {
    "collapsed": false
   },
   "outputs": [
    {
     "name": "stdout",
     "output_type": "stream",
     "text": [
      "Meme size is 2434\n"
     ]
    }
   ],
   "source": [
    "name = \"Insanity_Wolf.js\"\n",
    "clickedList, memes = verifyMemes(name) # memes[clickedList[0]] returns the first clicked item"
   ]
  },
  {
   "cell_type": "code",
   "execution_count": 220,
   "metadata": {
    "collapsed": false
   },
   "outputs": [],
   "source": [
    "selectedMemes = itemgetter(*clickedList)([meme[\"id\"] + \".jpg\" for meme in memes])\n",
    "js = toJSON(allThumbs, selectedMemes)\n",
    "fp = open('D:\\\\memeproject\\\\code\\html\\\\memes\\\\' + name, 'w')\n",
    "json.dump(js, fp)\n",
    "fp.close()"
   ]
  },
  {
   "cell_type": "markdown",
   "metadata": {},
   "source": [
    "Verify Entire Directory is ok\n",
    "--\n",
    "\n",
    "If no thumbnail is selected, nothing happens"
   ]
  },
  {
   "cell_type": "code",
   "execution_count": 311,
   "metadata": {
    "collapsed": false
   },
   "outputs": [
    {
     "name": "stdout",
     "output_type": "stream",
     "text": [
      "Meme size is 155\n",
      "Passed3rd_World_Success_Kid.js\n",
      "Meme size is 134\n",
      "Passed90's_Problems.js\n",
      "Meme size is 1138\n",
      "SavedAaand_It's_Gone.js\n",
      "Meme size is 2400\n",
      "PassedActual_Advice_Mallard.js\n",
      "Meme size is 73\n",
      "PassedAdvice_Dog.js\n",
      "Meme size is 77\n",
      "PassedAdvice_God.js\n",
      "Meme size is 758\n",
      "SavedAlmost_Politically_Correct_Redneck.js\n",
      "Meme size is 3023\n",
      "SavedAm_I_The_Only_One.js\n",
      "Meme size is 130\n",
      "PassedAncient_Aliens.js\n",
      "Meme size is 3767\n",
      "SavedAnnoyed_Picard.js\n",
      "Meme size is 526\n",
      "SavedAnnoying_Childhood_Friend.js\n",
      "Meme size is 727\n",
      "PassedAnnoying_Facebook_Girl.js\n",
      "Meme size is 292\n",
      "PassedAnti-Joke_Chicken_(Rooster).js\n",
      "Meme size is 5882\n",
      "PassedAwkward_Penguin.js\n",
      "Meme size is 79\n",
      "PassedBack_In_My_Day_Grandpa.js\n",
      "Meme size is 2400\n",
      "PassedBad_Advice_Mallard.js\n",
      "Meme size is 3\n",
      "PassedBad_Luck_Brian.js\n",
      "Meme size is 119\n",
      "PassedBear_Grylls.js\n",
      "Meme size is 489\n",
      "PassedBrace_Yourself.js\n",
      "Meme size is 1566\n",
      "SavedCaptain_Obvious.js\n",
      "Meme size is 19\n",
      "PassedChemistry_Cat.js\n",
      "Meme size is 1129\n",
      "PassedCollege_Freshman.js\n",
      "Meme size is 951\n",
      "PassedCollege_Liberal.js\n",
      "Meme size is 739\n",
      "PassedCondescending_Wonka.js\n",
      "Meme size is 9695\n",
      "SavedConfession_Bear.js\n",
      "Meme size is 1088\n",
      "PassedConfession_Kid.js\n",
      "Meme size is 243\n",
      "SavedConfused_Gandalf.js\n",
      "Meme size is 919\n",
      "PassedConspiracy_Keanu.js\n",
      "Meme size is 217\n",
      "PassedCourage_Wolf.js\n",
      "Meme size is 128\n",
      "PassedDating_Site_Murderer.js\n",
      "Meme size is 34\n",
      "PassedDepression_Dog.js\n",
      "Meme size is 118\n",
      "PassedDrunk_Baby.js\n",
      "Meme size is 21\n",
      "SavedFirst_Day_On_The_Internet_Kid.js\n",
      "Meme size is 77\n",
      "PassedFirst_World_Cat_Problems.js\n",
      "Meme size is 5334\n",
      "SavedFirst_World_Problem.js\n",
      "Meme size is 896\n",
      "PassedForever_Alone.js\n",
      "Meme size is 80\n",
      "PassedForever_Resentful_Mother.js\n",
      "Meme size is 261\n",
      "PassedFoul_Bachelorette_Frog.js\n",
      "Meme size is 1961\n",
      "PassedFoul_Bachelor_Frog.js\n",
      "Meme size is 1080\n",
      "PassedFuck_Me,_Right.js\n",
      "Meme size is 94\n",
      "SavedGangster_Baby.js\n",
      "Meme size is 829\n",
      "PassedGood_Girl_Gina.js\n",
      "Meme size is 5330\n",
      "SavedGood_Guy_Greg.js\n",
      "Meme size is 238\n",
      "PassedGrandma_Finds_The_Internet.js\n",
      "Meme size is 1155\n",
      "PassedGrinds_My_Gears.js\n",
      "Meme size is 287\n",
      "PassedHigh_Expectations_Asian_Father.js\n",
      "Meme size is 123\n",
      "PassedIdiot_Nerd_Girl.js\n",
      "Meme size is 2488\n",
      "PassedInsanity_Wolf.js\n",
      "Meme size is 48\n",
      "PassedI_Dare_You_Samuel_Jackson.js\n",
      "Meme size is 1244\n",
      "SavedI_Should_Buy_A_Boat.js\n",
      "Meme size is 150\n",
      "PassedI_Too_Like_To_Live_Dangerously.js\n",
      "Meme size is 613\n",
      "SavedJoker_Mind_Loss.js\n",
      "Meme size is 400\n",
      "SavedJoseph_Ducreux.js\n",
      "Meme size is 893\n",
      "SavedLame_Joke_Eel.js\n",
      "Meme size is 704\n",
      "PassedLame_Pun_Raccoon.js\n",
      "Meme size is 821\n",
      "SavedLazy_College_Senior.js\n",
      "Meme size is 328\n",
      "SavedLazy_Spiderman.js\n",
      "Meme size is 445\n",
      "SavedMatrix_Morpheus.js\n",
      "Meme size is 290\n",
      "PassedMusically_Oblivious_8th_Grader.js\n",
      "Meme size is 5475\n",
      "PassedNot_Sure_Fry.js\n",
      "Meme size is 104\n",
      "SavedOblivious_Suburban_Mom.js\n",
      "Meme size is 859\n",
      "PassedOne_Does_Not_Simply.js\n",
      "Meme size is 1396\n",
      "SavedOverly_Attached_Girlfriend.js\n",
      "Meme size is 1544\n",
      "PassedParanoid_Parrot.js\n",
      "Meme size is 571\n",
      "PassedPepperidge_Farm_Remembers.js\n",
      "Meme size is 1581\n",
      "PassedPhilosoraptor.js\n",
      "Meme size is 74\n",
      "PassedPriority_Peter.js\n",
      "Meme size is 1111\n",
      "PassedRedditor's_Wife.js\n",
      "Meme size is 36\n",
      "PassedRevenge_Band_Kid.js\n",
      "Meme size is 189\n",
      "PassedSchrute_Facts.js\n",
      "Meme size is 2057\n",
      "SavedScumbag_Brain.js\n",
      "Meme size is 2166\n",
      "SavedScumbag_Stacy.js\n",
      "Meme size is 4827\n",
      "PassedScumbag_Steve.js\n",
      "Meme size is 104\n",
      "PassedSexually_Oblivious_Rhino.js\n",
      "Meme size is 734\n",
      "PassedSheltering_Suburban_Mom.js\n",
      "Meme size is 91\n",
      "PassedSkeptical_Third_World_Kid.js\n",
      "Meme size is 477\n",
      "PassedSlow_Poke.js\n",
      "Meme size is 32\n",
      "PassedSmug_Spongebob.js\n",
      "Meme size is 287\n",
      "PassedSocially_Awesome_Penguin.js\n",
      "Meme size is 947\n",
      "SavedSuccessful_Black_Man.js\n",
      "Meme size is 8399\n",
      "SavedSuccess_Kid.js\n",
      "Meme size is 2385\n",
      "SavedSudden_Clarity_Clarence.js\n",
      "Meme size is 251\n",
      "PassedTech_Impaired_Duck.js\n",
      "Meme size is 2804\n",
      "SavedThe_Most_Interesting_Man_In_The_World.js\n",
      "Meme size is 722\n",
      "SavedThe_Rent_Is_Too_High.js\n",
      "Meme size is 825\n",
      "SavedTough_Spongebob.js\n",
      "Meme size is 78\n",
      "PassedVengeance_Dad.js\n",
      "Meme size is 106\n",
      "PassedWhat_Year_Is_It.js\n",
      "Meme size is 641\n",
      "SavedX,_X_Everywhere.js\n",
      "Meme size is 1410\n",
      "SavedYeah_That'd_Be_Great.js\n",
      "Meme size is 160\n",
      "SavedYou're_Bad_And_You_Should_Feel_Bad.js\n",
      "Meme size is 1349\n",
      "SavedYou're_Gonna_Have_A_Bad_Time.js\n",
      "Meme size is 45\n",
      "PassedYo_Dawg_Xzibit.js\n",
      "Meme size is 308\n",
      "SavedY_U_NO.js\n"
     ]
    }
   ],
   "source": [
    "allMemes = os.listdir(\"D:\\\\memeproject\\\\code\\html\\\\memes\\\\\")\n",
    "for name in allMemes:\n",
    "    clickedList,memes = verifyMemes(name)\n",
    "    # If nothing is selected, assume that there are no errors\n",
    "    if len(clickedList) != 0:\n",
    "        thumbList = [meme[\"id\"] + \".jpg\" for meme in memes]\n",
    "        selectedMemes = itemgetter(*clickedList)(thumbList)\n",
    "        fp = open('D:\\\\memeproject\\\\code\\html\\\\memes\\\\' + name, 'w')\n",
    "        json.dump(toJSON(allThumbs, selectedMemes), fp)\n",
    "        fp.close()\n",
    "        print \"Saved\" + name\n",
    "    else:\n",
    "        print \"Passed\" + name"
   ]
  },
  {
   "cell_type": "markdown",
   "metadata": {},
   "source": [
    "Generate new json from picture\n",
    "==\n",
    "\n",
    "1) Load Thumbnail and generate thumbList, a sorted list of differences\n",
    "\n",
    "2) Use GUI to determine \"Clicked List\"\n",
    "\n",
    "3) Finally save the json file. If a new template is generated, templatesToJSON.py might have to be invoked"
   ]
  },
  {
   "cell_type": "code",
   "execution_count": 4,
   "metadata": {
    "collapsed": false
   },
   "outputs": [],
   "source": [
    "%%capture\n",
    "loc = r\"D:\\memeproject\\templates\\Annoyed_Picard.jpg\"\n",
    "#loc = r\"D:\\memeproject\\thumbnails\\11hb7w.jpg\"\n",
    "(thumbList, a) = compareAll(loc, allThumbs)"
   ]
  },
  {
   "cell_type": "code",
   "execution_count": 6,
   "metadata": {
    "collapsed": true
   },
   "outputs": [],
   "source": [
    "offset = 1000\n",
    "clickedList = previewThumbs([thumb[1] for thumb in thumbList][offset:], (50,100))\n",
    "show()\n",
    "clickedList = range(0,offset) + [i + offset for i in clickedList]"
   ]
  },
  {
   "cell_type": "code",
   "execution_count": 7,
   "metadata": {
    "collapsed": true
   },
   "outputs": [],
   "source": [
    "name = \"Annoyed_Picard\"\n",
    "selectedMemes = itemgetter(*clickedList)(thumbList)\n",
    "fp = open('D:\\\\memeproject\\\\code\\html\\\\memes\\\\' + name + \".js\", 'w')\n",
    "json.dump(toJSON(allThumbs, [meme[1] for meme in selectedMemes]), fp)\n",
    "fp.close()"
   ]
  },
  {
   "cell_type": "markdown",
   "metadata": {},
   "source": [
    "Refinement\n",
    "==\n",
    "\n",
    "1) Pick represenative thumbnaul\n",
    "\n",
    "2) Compare all thumbnails with representative. \n",
    "\n",
    "3) Add new thumbnails to original list"
   ]
  },
  {
   "cell_type": "code",
   "execution_count": 306,
   "metadata": {
    "collapsed": false,
    "scrolled": true
   },
   "outputs": [
    {
     "name": "stdout",
     "output_type": "stream",
     "text": [
      "Meme size is 1349\n"
     ]
    }
   ],
   "source": [
    "# Pick thumbnail from existing json file\n",
    "name = \"You're_Gonna_Have_A_Bad_Time\"\n",
    "clickedList, memes = verifyMemes(name + \".js\") # memes[clickedList[0]] returns the first clicked item\n",
    "jsonmemes = json.load(open(\"D:\\\\memeproject\\\\code\\\\html\\\\memes\\\\\" + name +\".js\",'r'))"
   ]
  },
  {
   "cell_type": "code",
   "execution_count": 307,
   "metadata": {
    "collapsed": false
   },
   "outputs": [],
   "source": [
    "%%capture\n",
    "# Compare thumbnail\n",
    "loc = r\"D:\\\\memeproject\\\\thumbnails\\\\\" +  memes[clickedList[0]][\"id\"] + \".jpg\"\n",
    "(thumbList, a) = compareAll(loc, allThumbs)"
   ]
  },
  {
   "cell_type": "code",
   "execution_count": 308,
   "metadata": {
    "collapsed": false
   },
   "outputs": [],
   "source": [
    "# Look at all thumbs\n",
    "jsonmemelist = [meme[\"id\"] for meme in memes]\n",
    "jsonmemeset  = OrderedSet(jsonmemelist)\n",
    "alltset      = OrderedSet([thumb[1][0:-4] for thumb in thumbList])\n",
    "diffset      = alltset - jsonmemeset\n",
    "diffList     = [d + \".jpg\" for d in diffset]\n",
    "clickedList  = previewThumbs(diffList, (30,30))\n",
    "show()"
   ]
  },
  {
   "cell_type": "code",
   "execution_count": 300,
   "metadata": {
    "collapsed": false
   },
   "outputs": [
    {
     "name": "stdout",
     "output_type": "stream",
     "text": [
      "Previous length  1340  Current length  1349\n"
     ]
    }
   ],
   "source": [
    "selectedMemes = itemgetter(*clickedList)(diffList)\n",
    "concatMemes   = [meme + \".jpg\" for meme in jsonmemelist] + list(selectedMemes)\n",
    "assert(len(concatMemes) == len(list(selectedMemes)) + len(jsonmemelist))\n",
    "assert(len(set(concatMemes)) == len(concatMemes))\n",
    "print \"Previous length \", len(jsonmemeset), \" Current length \", len(concatMemes)\n",
    "js = toJSON(allThumbs, concatMemes)"
   ]
  },
  {
   "cell_type": "code",
   "execution_count": 301,
   "metadata": {
    "collapsed": true
   },
   "outputs": [],
   "source": [
    "fp = open('D:\\\\memeproject\\\\code\\html\\\\memes\\\\' + name + '.js', 'w')\n",
    "json.dump(js, fp)\n",
    "fp.close()"
   ]
  },
  {
   "cell_type": "code",
   "execution_count": null,
   "metadata": {
    "collapsed": true
   },
   "outputs": [],
   "source": []
  }
 ],
 "metadata": {
  "kernelspec": {
   "display_name": "Python 2",
   "language": "python",
   "name": "python2"
  },
  "language_info": {
   "codemirror_mode": {
    "name": "ipython",
    "version": 2
   },
   "file_extension": ".py",
   "mimetype": "text/x-python",
   "name": "python",
   "nbconvert_exporter": "python",
   "pygments_lexer": "ipython2",
   "version": "2.7.9"
  }
 },
 "nbformat": 4,
 "nbformat_minor": 0
}
