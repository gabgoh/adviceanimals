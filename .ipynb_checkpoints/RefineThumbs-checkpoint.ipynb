{
 "cells": [
  {
   "cell_type": "code",
   "execution_count": 1,
   "metadata": {
    "collapsed": false
   },
   "outputs": [],
   "source": [
    "from thumbSortToJSON import *\n",
    "from sortThumbs import *\n",
    "import json\n",
    "from math import *\n",
    "from numpy import *\n",
    "from operator import itemgetter\n",
    "import json\n",
    "import os"
   ]
  },
  {
   "cell_type": "code",
   "execution_count": 2,
   "metadata": {
    "collapsed": true
   },
   "outputs": [],
   "source": [
    "fp = open(r'D:\\memeproject\\thumbsnailSummaryTitles','r')\n",
    "allThumbs = pickle.load(fp)\n",
    "fp.close()"
   ]
  },
  {
   "cell_type": "markdown",
   "metadata": {},
   "source": [
    "Verify that a js file is correct\n",
    "=="
   ]
  },
  {
   "cell_type": "code",
   "execution_count": 24,
   "metadata": {
    "collapsed": true
   },
   "outputs": [],
   "source": [
    "def verifyMemes(name):\n",
    "    memes = json.load(open(\"D:\\\\memeproject\\\\code\\\\html\\\\memes\\\\\" + name,'r'))\n",
    "    n = int(ceil(sqrt(len(memes))))\n",
    "    clickedList = previewThumbs([meme['id'] + '.jpg' for meme in memes], (n,n))\n",
    "    show()\n",
    "    return clickedList, memes"
   ]
  },
  {
   "cell_type": "code",
   "execution_count": 51,
   "metadata": {
    "collapsed": false
   },
   "outputs": [],
   "source": [
    "name = \"Success_Kid.js\"\n",
    "clickedList, memes = verifyMemes(name)"
   ]
  },
  {
   "cell_type": "code",
   "execution_count": 20,
   "metadata": {
    "collapsed": true
   },
   "outputs": [],
   "source": [
    "thumbList = [meme[\"id\"] + \".jpg\" for meme in memes]\n",
    "selectedMemes = itemgetter(*clickedList)(thumbList)\n",
    "fp = open('D:\\\\memeproject\\\\code\\html\\\\memes\\\\' + name, 'w')\n",
    "json.dump(toJSON(allThumbs, selectedMemes), fp)\n",
    "fp.close()"
   ]
  },
  {
   "cell_type": "markdown",
   "metadata": {},
   "source": [
    "Verify Entire Directory is ok\n",
    "--\n",
    "\n",
    "If no thumbnail is selected, nothing happens"
   ]
  },
  {
   "cell_type": "code",
   "execution_count": 40,
   "metadata": {
    "collapsed": false,
    "scrolled": true
   },
   "outputs": [
    {
     "name": "stdout",
     "output_type": "stream",
     "text": [
      "Passed3rd_World_Success_Kid.js\n"
     ]
    }
   ],
   "source": [
    "allMemes = os.listdir(\"D:\\\\memeproject\\\\code\\html\\\\memes\\\\\")\n",
    "for name in allMemes[0:1]:\n",
    "    clickedList,memes = verifyMemes(name)\n",
    "    # If nothing is selected, assume that there are no errors\n",
    "    if len(clickedList) != 0:\n",
    "        thumbList = [meme[\"id\"] + \".jpg\" for meme in memes]\n",
    "        selectedMemes = itemgetter(*clickedList)(thumbList)\n",
    "        fp = open('D:\\\\memeproject\\\\code\\html\\\\memes\\\\' + name, 'w')\n",
    "        json.dump(toJSON(allThumbs, selectedMemes), fp)\n",
    "        fp.close()\n",
    "        print \"Saved\" + name\n",
    "    else:\n",
    "        print \"Passed\" + name"
   ]
  },
  {
   "cell_type": "markdown",
   "metadata": {},
   "source": [
    "Compare Thumbnails with a picture\n",
    "==\n",
    "\n",
    "1) Load Thumbnail and generate thumbList, a sorted list of differences\n",
    "\n",
    "2) Use GUI to determine \"Clicked List\"\n",
    "\n",
    "3) Finally save the json file. If a new template is generated, templatesToJSON.py might have to be invoked"
   ]
  },
  {
   "cell_type": "code",
   "execution_count": 48,
   "metadata": {
    "collapsed": false
   },
   "outputs": [],
   "source": [
    "%%capture\n",
    "loc = r\"D:\\memeproject\\templates\\Actual_Advice_Mallard.jpg\"\n",
    "#loc = r\"D:\\memeproject\\thumbnails\\olffp.jpg\"\n",
    "(thumbList, a) = compareAll(loc, allThumbs)"
   ]
  },
  {
   "cell_type": "code",
   "execution_count": 49,
   "metadata": {
    "collapsed": true
   },
   "outputs": [],
   "source": [
    "offset = 3000\n",
    "clickedList = previewThumbs([thumb[1] for thumb in thumbList][offset:], (50,100))\n",
    "show()\n",
    "clickedList = range(0,offset) + [i + offset for i in clickedList]"
   ]
  },
  {
   "cell_type": "code",
   "execution_count": 50,
   "metadata": {
    "collapsed": false
   },
   "outputs": [],
   "source": [
    "name = \"Success_Kid\"\n",
    "selectedMemes = itemgetter(*clickedList)(thumbList)\n",
    "fp = open('D:\\\\memeproject\\\\code\\html\\\\memes\\\\' + name + \".js\", 'w')\n",
    "json.dump(toJSON(allThumbs, [meme[1] for meme in selectedMemes]), fp)\n",
    "fp.close()"
   ]
  },
  {
   "cell_type": "markdown",
   "metadata": {},
   "source": [
    "Merge two lists together.\n",
    "=="
   ]
  },
  {
   "cell_type": "code",
   "execution_count": null,
   "metadata": {
    "collapsed": true
   },
   "outputs": [],
   "source": []
  }
 ],
 "metadata": {
  "kernelspec": {
   "display_name": "Python 2",
   "language": "python",
   "name": "python2"
  },
  "language_info": {
   "codemirror_mode": {
    "name": "ipython",
    "version": 2
   },
   "file_extension": ".py",
   "mimetype": "text/x-python",
   "name": "python",
   "nbconvert_exporter": "python",
   "pygments_lexer": "ipython2",
   "version": "2.7.9"
  }
 },
 "nbformat": 4,
 "nbformat_minor": 0
}
